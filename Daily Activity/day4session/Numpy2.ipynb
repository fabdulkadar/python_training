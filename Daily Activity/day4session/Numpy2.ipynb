{
  "cells": [
    {
      "cell_type": "code",
      "execution_count": 1,
      "metadata": {
        "id": "GB8tC4WqdHMW"
      },
      "outputs": [],
      "source": [
        "import numpy as np"
      ]
    },
    {
      "cell_type": "code",
      "execution_count": 2,
      "metadata": {
        "id": "mc3Nd_K3biEu"
      },
      "outputs": [],
      "source": [
        "a = np.array([1,2,3,4,5,6,7,8,9,0])\n",
        "b = np.zeros([2,3],int)\n",
        "c = np.ones(9)"
      ]
    },
    {
      "cell_type": "code",
      "execution_count": 3,
      "metadata": {
        "colab": {
          "base_uri": "https://localhost:8080/"
        },
        "id": "G2zz-kXAeXjW",
        "outputId": "d56ec956-bc2e-44df-9483-82e11f3bb4d5"
      },
      "outputs": [
        {
          "data": {
            "text/plain": [
              "array([[0, 0, 0],\n",
              "       [0, 0, 0]])"
            ]
          },
          "execution_count": 3,
          "metadata": {},
          "output_type": "execute_result"
        }
      ],
      "source": [
        "b"
      ]
    },
    {
      "cell_type": "code",
      "execution_count": 4,
      "metadata": {
        "colab": {
          "base_uri": "https://localhost:8080/"
        },
        "id": "EKwYCeMLeWKj",
        "outputId": "1e447e21-64b3-454f-fed6-a44760334bc4"
      },
      "outputs": [
        {
          "data": {
            "text/plain": [
              "array([1., 1., 1., 1., 1., 1., 1., 1., 1.])"
            ]
          },
          "execution_count": 4,
          "metadata": {},
          "output_type": "execute_result"
        }
      ],
      "source": [
        "c"
      ]
    },
    {
      "cell_type": "code",
      "execution_count": 5,
      "metadata": {
        "colab": {
          "base_uri": "https://localhost:8080/"
        },
        "id": "-U6SDcLKdFXn",
        "outputId": "233e4734-f213-49fc-ec2f-e4dda5ab17af"
      },
      "outputs": [
        {
          "data": {
            "text/plain": [
              "array([[1, 2, 3, 4, 5],\n",
              "       [6, 7, 8, 9, 0]])"
            ]
          },
          "execution_count": 5,
          "metadata": {},
          "output_type": "execute_result"
        }
      ],
      "source": [
        "a.reshape(2,5)"
      ]
    },
    {
      "cell_type": "code",
      "execution_count": 6,
      "metadata": {
        "colab": {
          "base_uri": "https://localhost:8080/"
        },
        "id": "nCffmOt3eMjO",
        "outputId": "5a83632e-c31b-4700-9d61-11ddecddb86c"
      },
      "outputs": [
        {
          "data": {
            "text/plain": [
              "array([1, 2, 3, 4, 5, 6, 7, 8, 9, 0])"
            ]
          },
          "execution_count": 6,
          "metadata": {},
          "output_type": "execute_result"
        }
      ],
      "source": [
        "a.flatten()"
      ]
    },
    {
      "cell_type": "code",
      "execution_count": 7,
      "metadata": {
        "colab": {
          "base_uri": "https://localhost:8080/"
        },
        "id": "8gD-axLCeOt7",
        "outputId": "a3126376-0a4b-43e5-af93-9a418f6a045c"
      },
      "outputs": [
        {
          "data": {
            "text/plain": [
              "array([[1, 6],\n",
              "       [2, 7],\n",
              "       [3, 8],\n",
              "       [4, 9],\n",
              "       [5, 0]])"
            ]
          },
          "execution_count": 7,
          "metadata": {},
          "output_type": "execute_result"
        }
      ],
      "source": [
        "T = a.reshape(2,5).transpose()\n",
        "T"
      ]
    },
    {
      "cell_type": "code",
      "execution_count": 8,
      "metadata": {
        "colab": {
          "base_uri": "https://localhost:8080/"
        },
        "id": "TpoxbHrFejiK",
        "outputId": "64d4ce9c-3f0b-42e3-e864-e15cae05a02c"
      },
      "outputs": [
        {
          "data": {
            "text/plain": [
              "array([[-25, -20, -15, -10,  -5],\n",
              "       [  0,   5,  10,  15,  20]])"
            ]
          },
          "execution_count": 8,
          "metadata": {},
          "output_type": "execute_result"
        }
      ],
      "source": [
        "d2 = np.arange(-25,25,5).reshape(2,5)\n",
        "d2"
      ]
    },
    {
      "cell_type": "code",
      "execution_count": 9,
      "metadata": {
        "colab": {
          "base_uri": "https://localhost:8080/"
        },
        "id": "YlGV7lwJgFS9",
        "outputId": "aa989b95-5950-4b3d-a7a5-d2c9cbf67e2e"
      },
      "outputs": [
        {
          "data": {
            "text/plain": [
              "np.float64(-2.5)"
            ]
          },
          "execution_count": 9,
          "metadata": {},
          "output_type": "execute_result"
        }
      ],
      "source": [
        "avg = np.average(d2)\n",
        "avg"
      ]
    },
    {
      "cell_type": "code",
      "execution_count": 10,
      "metadata": {
        "colab": {
          "base_uri": "https://localhost:8080/"
        },
        "id": "ea3QN0mogJtv",
        "outputId": "d8648188-2bbc-48cd-e0c0-1e05eb9dc9a1"
      },
      "outputs": [
        {
          "name": "stdout",
          "output_type": "stream",
          "text": [
            "Elements Below 0 are : [np.int64(-25), np.int64(-20), np.int64(-15), np.int64(-10), np.int64(-5)]\n"
          ]
        }
      ],
      "source": [
        "below_zero = []\n",
        "for i in range(len(d2)):\n",
        "    for j in range(len(d2[i])):\n",
        "        if d2[i][j] < 0:\n",
        "            below_zero.append(d2[i][j])\n",
        "print(f\"Elements Below 0 are : {below_zero}\")"
      ]
    },
    {
      "cell_type": "code",
      "execution_count": 11,
      "metadata": {
        "colab": {
          "base_uri": "https://localhost:8080/"
        },
        "id": "xPyKSinbg3qZ",
        "outputId": "ec92bd06-5a02-4406-c026-0cd1f71381f3"
      },
      "outputs": [
        {
          "name": "stdout",
          "output_type": "stream",
          "text": [
            "Total No. of Element : 10\n"
          ]
        }
      ],
      "source": [
        "print(f\"Total No. of Element : {d2.size}\")"
      ]
    }
  ],
  "metadata": {
    "colab": {
      "provenance": []
    },
    "kernelspec": {
      "display_name": ".venv",
      "language": "python",
      "name": "python3"
    },
    "language_info": {
      "codemirror_mode": {
        "name": "ipython",
        "version": 3
      },
      "file_extension": ".py",
      "mimetype": "text/x-python",
      "name": "python",
      "nbconvert_exporter": "python",
      "pygments_lexer": "ipython3",
      "version": "3.11.0"
    }
  },
  "nbformat": 4,
  "nbformat_minor": 0
}
