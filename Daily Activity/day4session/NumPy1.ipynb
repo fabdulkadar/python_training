{
  "cells": [
    {
      "cell_type": "markdown",
      "metadata": {
        "id": "QgkOwZ1IQE4N"
      },
      "source": [
        "# Numpy Library Command"
      ]
    },
    {
      "cell_type": "markdown",
      "metadata": {
        "id": "QSJWAau6QBC5"
      },
      "source": [
        "Importing Libraries"
      ]
    },
    {
      "cell_type": "code",
      "execution_count": 1,
      "metadata": {
        "id": "szEn0uafMcr-"
      },
      "outputs": [],
      "source": [
        "import numpy as np"
      ]
    },
    {
      "cell_type": "markdown",
      "metadata": {
        "id": "-Vy_aMxDPnTy"
      },
      "source": [
        "Creating Arrays"
      ]
    },
    {
      "cell_type": "code",
      "execution_count": 2,
      "metadata": {
        "id": "p5JelrXONQIB"
      },
      "outputs": [],
      "source": [
        "a = np.array([10,20,30]) #1D Array\n",
        "b = np.array([[10,20],[30,40]]) #2D Array\n",
        "c = np.array([[[10,20],[20,30]],[[40,50],[50,60]]]) #3D Array"
      ]
    },
    {
      "cell_type": "markdown",
      "metadata": {
        "id": "0Kt5fnMuPpIg"
      },
      "source": [
        "Accessing Array elemnts using Index"
      ]
    },
    {
      "cell_type": "code",
      "execution_count": 3,
      "metadata": {
        "colab": {
          "base_uri": "https://localhost:8080/"
        },
        "id": "K9zaajStPBWd",
        "outputId": "2a5ac0a4-c60f-4d83-9ac2-374d71c317d9"
      },
      "outputs": [
        {
          "name": "stdout",
          "output_type": "stream",
          "text": [
            "10\n",
            "40\n",
            "30\n"
          ]
        }
      ],
      "source": [
        "print(a[0])\n",
        "print(b[1][1])\n",
        "print(c[0][1][1])"
      ]
    },
    {
      "cell_type": "markdown",
      "metadata": {
        "id": "V06y5swCP343"
      },
      "source": [
        "Finding the shape of the array"
      ]
    },
    {
      "cell_type": "code",
      "execution_count": 4,
      "metadata": {
        "colab": {
          "base_uri": "https://localhost:8080/"
        },
        "id": "aeWX4jJ7PWmH",
        "outputId": "fa0ca1ec-1d12-4bdb-d9d0-0c7629d674e6"
      },
      "outputs": [
        {
          "name": "stdout",
          "output_type": "stream",
          "text": [
            "(3,)\n",
            "(2, 2)\n",
            "(2, 2, 2)\n"
          ]
        }
      ],
      "source": [
        "print(a.shape)\n",
        "print(b.shape)\n",
        "print(c.shape)"
      ]
    },
    {
      "cell_type": "markdown",
      "metadata": {
        "id": "F4HJnFPeP8Z5"
      },
      "source": [
        "Finding the dimensions of the array"
      ]
    },
    {
      "cell_type": "code",
      "execution_count": 5,
      "metadata": {
        "colab": {
          "base_uri": "https://localhost:8080/"
        },
        "id": "4kzGqFxTPfHq",
        "outputId": "a91c329d-c91f-48d7-d84b-b9998f3591fc"
      },
      "outputs": [
        {
          "name": "stdout",
          "output_type": "stream",
          "text": [
            "1\n",
            "2\n",
            "3\n"
          ]
        }
      ],
      "source": [
        "print(a.ndim)\n",
        "print(b.ndim)\n",
        "print(c.ndim)"
      ]
    },
    {
      "cell_type": "code",
      "execution_count": 6,
      "metadata": {
        "id": "X-8-jxH2PjEU"
      },
      "outputs": [],
      "source": [
        "sales_data = np.array([\n",
        "    [100,123,145,133],\n",
        "    [200,210,155,300],\n",
        "    [150,160,120,130],\n",
        "    [225,233,208,210]\n",
        "])"
      ]
    },
    {
      "cell_type": "code",
      "execution_count": 7,
      "metadata": {
        "colab": {
          "base_uri": "https://localhost:8080/"
        },
        "id": "z027fREDQn1M",
        "outputId": "07cc2b73-8ddb-4ca4-d85f-5fc5e265d38a"
      },
      "outputs": [
        {
          "name": "stdout",
          "output_type": "stream",
          "text": [
            "Total sales for day : 0\n",
            "Total sales for day : 1\n",
            "Total sales for day : 2\n",
            "Total sales for day : 3\n"
          ]
        }
      ],
      "source": [
        "for day in range(len(sales_data)):\n",
        "  print(f\"Total sales for day : {np.sum(day)}\")"
      ]
    },
    {
      "cell_type": "code",
      "execution_count": 8,
      "metadata": {
        "colab": {
          "base_uri": "https://localhost:8080/"
        },
        "id": "KWVhkk8zQ_8y",
        "outputId": "58f8ecee-6640-4867-963d-4faaf5726385"
      },
      "outputs": [
        {
          "name": "stdout",
          "output_type": "stream",
          "text": [
            "Sales of Day 3 : [150 160 120 130]\n"
          ]
        }
      ],
      "source": [
        "print(f\"Sales of Day 3 : {sales_data[2]}\")"
      ]
    },
    {
      "cell_type": "code",
      "execution_count": 9,
      "metadata": {
        "colab": {
          "base_uri": "https://localhost:8080/"
        },
        "id": "PN40JKzISJnJ",
        "outputId": "452aaf30-8eec-4f6a-b7e4-40eadb250004"
      },
      "outputs": [
        {
          "name": "stdout",
          "output_type": "stream",
          "text": [
            "2nd Column of each row : [123 210 160 233]\n"
          ]
        }
      ],
      "source": [
        "print(f\"2nd Column of each row : {sales_data[:,1]}\")"
      ]
    },
    {
      "cell_type": "code",
      "execution_count": 10,
      "metadata": {
        "colab": {
          "base_uri": "https://localhost:8080/"
        },
        "id": "XG3yG2QXSdeB",
        "outputId": "93468567-ccd3-4397-f29f-bed89c8f74b6"
      },
      "outputs": [
        {
          "name": "stdout",
          "output_type": "stream",
          "text": [
            "Sales of Product 3 on Day2 and Day 3 : [155 120]\n"
          ]
        }
      ],
      "source": [
        "print(f\"Sales of Product 3 on Day2 and Day 3 : {sales_data[[1,2],2]}\")"
      ]
    },
    {
      "cell_type": "code",
      "execution_count": 11,
      "metadata": {
        "colab": {
          "base_uri": "https://localhost:8080/"
        },
        "id": "5acMT2QOS7o9",
        "outputId": "230b920d-0686-4af9-8b6b-0bd061781aae"
      },
      "outputs": [
        {
          "data": {
            "text/plain": [
              "array([2, 4, 6])"
            ]
          },
          "execution_count": 11,
          "metadata": {},
          "output_type": "execute_result"
        }
      ],
      "source": [
        "a = np.array([1,2,3])\n",
        "b = np.array([1,2,3])\n",
        "a+b"
      ]
    },
    {
      "cell_type": "code",
      "execution_count": null,
      "metadata": {
        "id": "tK7iV6P2UoNS"
      },
      "outputs": [],
      "source": []
    }
  ],
  "metadata": {
    "colab": {
      "provenance": []
    },
    "kernelspec": {
      "display_name": ".venv",
      "language": "python",
      "name": "python3"
    },
    "language_info": {
      "codemirror_mode": {
        "name": "ipython",
        "version": 3
      },
      "file_extension": ".py",
      "mimetype": "text/x-python",
      "name": "python",
      "nbconvert_exporter": "python",
      "pygments_lexer": "ipython3",
      "version": "3.11.0"
    }
  },
  "nbformat": 4,
  "nbformat_minor": 0
}
