{
 "cells": [
  {
   "cell_type": "code",
   "execution_count": 3,
   "id": "0b1f68fe",
   "metadata": {},
   "outputs": [],
   "source": [
    "import pandas as pd"
   ]
  },
  {
   "cell_type": "code",
   "execution_count": 4,
   "id": "a6ae4284",
   "metadata": {},
   "outputs": [],
   "source": [
    "data = {\n",
    "    \"order_id\" :[1, 2, 3, 4, 5],\n",
    "    \"amount\" :[100, 200, 300, 400, 500],\n",
    "    \"category\" :[\"A\", \"B\", \"A\", \"B\", \"C\"],\n",
    "}"
   ]
  },
  {
   "cell_type": "code",
   "execution_count": 5,
   "id": "d43960d1",
   "metadata": {},
   "outputs": [],
   "source": [
    "df = pd.DataFrame(data)"
   ]
  },
  {
   "cell_type": "code",
   "execution_count": 6,
   "id": "28d8e7df",
   "metadata": {},
   "outputs": [],
   "source": [
    "filtered_df = df[df['amount'] > 200]"
   ]
  },
  {
   "cell_type": "code",
   "execution_count": 7,
   "id": "a97581c8",
   "metadata": {},
   "outputs": [],
   "source": [
    "filtered_df = df[df['amount'] > 200].copy()"
   ]
  },
  {
   "cell_type": "code",
   "execution_count": 8,
   "id": "a16486d9",
   "metadata": {},
   "outputs": [],
   "source": [
    "filtered_df.loc[:, 'discounted_amount'] = filtered_df['amount'].apply(lambda x : x * 0.9)"
   ]
  },
  {
   "cell_type": "code",
   "execution_count": 11,
   "id": "96a2445c",
   "metadata": {},
   "outputs": [
    {
     "name": "stdout",
     "output_type": "stream",
     "text": [
      "Filtered DataFrame: \n",
      "    order_id  amount category  discounted_amount\n",
      "2         3     300        A              270.0\n",
      "3         4     400        B              360.0\n",
      "4         5     500        C              450.0\n",
      "Total discounted revenue: 1080.0\n"
     ]
    }
   ],
   "source": [
    "total_discounted_revenue = filtered_df['discounted_amount'].sum()\n",
    "print(\"Filtered DataFrame: \\n\", filtered_df)\n",
    "print(\"Total discounted revenue:\", total_discounted_revenue)"
   ]
  }
 ],
 "metadata": {
  "kernelspec": {
   "display_name": "Python 3",
   "language": "python",
   "name": "python3"
  },
  "language_info": {
   "codemirror_mode": {
    "name": "ipython",
    "version": 3
   },
   "file_extension": ".py",
   "mimetype": "text/x-python",
   "name": "python",
   "nbconvert_exporter": "python",
   "pygments_lexer": "ipython3",
   "version": "3.11.0"
  }
 },
 "nbformat": 4,
 "nbformat_minor": 5
}
